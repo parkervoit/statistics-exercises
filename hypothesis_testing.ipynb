{
 "cells": [
  {
   "cell_type": "markdown",
   "metadata": {},
   "source": [
    "# Exercises    \n",
    "    For each of the following questions, formulate a null and alternative hypothesis (be as specific as you can be), then give an example of what a true positive, true negative, type I and type II errors would look like. Note that some of the questions are intentionally phrased in a vague way. It is your job to reword these as more precise questions that could be tested.\n",
    "\n",
    "1. Has the network latency gone up since we switched internet service providers?\n",
    "- null : latency performance is not related to internet providers \n",
    "- althypo : latency performance is related to internet providers \n",
    "- truepos : avg latency from one company is significantly higher than the other\n",
    "- trueneg : avg latency from one company is not significantly higher than the other\n",
    "- type1 : latency is better with one company statistically, but in reality it isnt\n",
    "- type2 : company doesn't seem to matter with our tests, but in reality actually does\n",
    "2.  Is the website redesign any good? (just as a comment, what does good even mean? For this I am assuming amt of users visiting site)\n",
    "- null : website views are not related to the website change\n",
    "- althypo : website views are related to website change\n",
    "- truepos : website views are higher with the redesigned group compared to original\n",
    "- falsepos : website views on original are higher than the redesigned\n",
    "- type1 : views are higher on the new design, but in actuality it's due to just more people visiting, unrelated to the design\n",
    "- type2 : our redesign doesn't change our engagement, but in reality it increases user engagement and views. \n",
    "3. Is our television ad driving more sales?\n",
    "- null: advertising campaign does not influence sales\n",
    "- althypo : advertising campaign influenced sales\n",
    "- truepos : advertising campaing did create a larger amount of sales\n",
    "- falsepos : advertising campaign did not increase sales\n",
    "- type1 : sales are up, but not due to the ad. maybe its the weather\n",
    "- type2 : sales aren't up, but that's due to people not needing our product. The ad is getting new customers, they just dont increase our sales enough. "
   ]
  },
  {
   "cell_type": "code",
   "execution_count": 52,
   "metadata": {},
   "outputs": [],
   "source": [
    "import numpy as np\n",
    "import seaborn as sns\n",
    "import scipy.stats as stats\n",
    "import pandas as pd\n",
    "import matplotlib.pyplot as plt\n",
    "from pydataset import data"
   ]
  },
  {
   "cell_type": "markdown",
   "metadata": {},
   "source": [
    "Ace Realty wants to determine whether the average time it takes to sell homes is different for its two offices. A sample of 40 sales from office #1 revealed a mean of 90 days and a standard deviation of 15 days. A sample of 50 sales from office #2 revealed a mean of 100 days and a standard deviation of 20 days. Use a .05 level of significance.\n",
    "\n"
   ]
  },
  {
   "cell_type": "code",
   "execution_count": 3,
   "metadata": {},
   "outputs": [
    {
     "data": {
      "text/plain": [
       "Ttest_indResult(statistic=-2.7091418459143854, pvalue=0.00811206270346016)"
      ]
     },
     "execution_count": 3,
     "metadata": {},
     "output_type": "execute_result"
    }
   ],
   "source": [
    "stats.ttest_ind_from_stats(90,15,40,100,20,50, equal_var = False)"
   ]
  },
  {
   "cell_type": "markdown",
   "metadata": {},
   "source": [
    "I used ttest from stats since I had some of the descriptive stats. Negative test statistic and p value < .05 means we can reject the null hypothesis that time of sale is not significantly different. The negative test lets us know that office 2 takes longer to sell homes. "
   ]
  },
  {
   "cell_type": "markdown",
   "metadata": {},
   "source": [
    "Load the mpg dataset and use it to answer the following questions:\n",
    "\n",
    "Is there a difference in fuel-efficiency in cars from 2008 vs 1999?"
   ]
  },
  {
   "cell_type": "code",
   "execution_count": 16,
   "metadata": {},
   "outputs": [],
   "source": [
    "#import data\n",
    "df = data('mpg')\n",
    "#rename columns\n",
    "df = df.rename(columns = {'cty':'city', 'hwy':'highway', 'cyl':'cylinder', 'drv':'drive'})\n",
    "# create new columns for average_mileage and mileage_difference. \n",
    "df['average_mileage'] = df[['highway','city']].mean(axis = 1)\n",
    "df['mileage_difference'] = df['highway'].sub(df['city'], axis = 0)"
   ]
  },
  {
   "cell_type": "code",
   "execution_count": 49,
   "metadata": {},
   "outputs": [
    {
     "data": {
      "text/plain": [
       "LeveneResult(statistic=0.033228136671080453, pvalue=0.855517569468803)"
      ]
     },
     "execution_count": 49,
     "metadata": {},
     "output_type": "execute_result"
    }
   ],
   "source": [
    "#create new data frames that filter by date\n",
    "old_cars = df[df['year'] == 1999]\n",
    "new_cars = df[df['year'] == 2008]\n",
    "stats.levene(old_cars[\"average_mileage\"], new_cars[\"average_mileage\"])"
   ]
  },
  {
   "cell_type": "markdown",
   "metadata": {},
   "source": [
    "The levene test determined that the variances of both old and new cars are not significantly different. "
   ]
  },
  {
   "cell_type": "code",
   "execution_count": 18,
   "metadata": {},
   "outputs": [
    {
     "data": {
      "text/plain": [
       "Ttest_indResult(statistic=0.21960177245940962, pvalue=0.8263744040323578)"
      ]
     },
     "execution_count": 18,
     "metadata": {},
     "output_type": "execute_result"
    }
   ],
   "source": [
    "stats.ttest_ind(old_cars[\"average_mileage\"], new_cars[\"average_mileage\"])"
   ]
  },
  {
   "cell_type": "markdown",
   "metadata": {},
   "source": [
    "The differences in average gas mileage between the two groups is not significantly different enough to reject the null hypothesis. "
   ]
  },
  {
   "cell_type": "markdown",
   "metadata": {},
   "source": [
    "Are compact cars more fuel-efficient than the average car?"
   ]
  },
  {
   "cell_type": "code",
   "execution_count": 34,
   "metadata": {},
   "outputs": [],
   "source": [
    "# create mask to filter compact cars to compare to all the other classes of cars\n",
    "compact_mask = df[\"class\"] == \"compact\"\n",
    "compact = df[compact_mask]\n",
    "avg_car = df[compact_mask == False]"
   ]
  },
  {
   "cell_type": "code",
   "execution_count": 21,
   "metadata": {},
   "outputs": [
    {
     "data": {
      "text/plain": [
       "array(['compact', 'midsize', 'suv', '2seater', 'minivan', 'pickup',\n",
       "       'subcompact'], dtype=object)"
      ]
     },
     "execution_count": 21,
     "metadata": {},
     "output_type": "execute_result"
    }
   ],
   "source": [
    "df[\"class\"].unique()"
   ]
  },
  {
   "cell_type": "code",
   "execution_count": 50,
   "metadata": {},
   "outputs": [
    {
     "data": {
      "text/plain": [
       "LeveneResult(statistic=11.96025508756341, pvalue=0.0006283349942996054)"
      ]
     },
     "execution_count": 50,
     "metadata": {},
     "output_type": "execute_result"
    }
   ],
   "source": [
    "stats.levene(compact[\"average_mileage\"], avg_car[\"average_mileage\"])"
   ]
  },
  {
   "cell_type": "markdown",
   "metadata": {},
   "source": [
    "Levene's test indicates that the variance between both groups are significantly different. "
   ]
  },
  {
   "cell_type": "code",
   "execution_count": 53,
   "metadata": {},
   "outputs": [
    {
     "data": {
      "text/plain": [
       "Ttest_indResult(statistic=8.128810422808078, pvalue=1.6018060656123074e-12)"
      ]
     },
     "execution_count": 53,
     "metadata": {},
     "output_type": "execute_result"
    }
   ],
   "source": [
    "stats.ttest_ind(compact[\"average_mileage\"], avg_car[\"average_mileage\"], equal_var = False)"
   ]
  },
  {
   "cell_type": "code",
   "execution_count": 54,
   "metadata": {},
   "outputs": [
    {
     "data": {
      "text/plain": [
       "Ttest_1sampResult(statistic=7.896888573132535, pvalue=4.1985637943171336e-10)"
      ]
     },
     "execution_count": 54,
     "metadata": {},
     "output_type": "execute_result"
    }
   ],
   "source": [
    "stats.ttest_1samp(compact[\"average_mileage\"],df[\"average_mileage\"].mean())"
   ]
  },
  {
   "cell_type": "markdown",
   "metadata": {},
   "source": [
    "At first, I did this as a independent t test due to misreading the question. I went back and ran the analysis again as a 1 sample. Both have p<0.05, so we can reject our null and confirm that compact cars have significantly better gas mileage"
   ]
  },
  {
   "cell_type": "markdown",
   "metadata": {},
   "source": [
    "Do manual cars get better gas mileage than automatic cars?"
   ]
  },
  {
   "cell_type": "code",
   "execution_count": 45,
   "metadata": {},
   "outputs": [],
   "source": [
    "auto = df[df['trans'].str.contains(\"auto\")]\n",
    "manual =  df[df['trans'].str.contains(\"manual\")]"
   ]
  },
  {
   "cell_type": "code",
   "execution_count": 47,
   "metadata": {},
   "outputs": [
    {
     "data": {
      "text/plain": [
       "LeveneResult(statistic=0.20075824847529639, pvalue=0.6545276355131857)"
      ]
     },
     "execution_count": 47,
     "metadata": {},
     "output_type": "execute_result"
    }
   ],
   "source": [
    "stats.levene(auto[\"average_mileage\"], manual[\"average_mileage\"])"
   ]
  },
  {
   "cell_type": "markdown",
   "metadata": {},
   "source": [
    "we can confirm that the difference in variances between the two groups is insignificant and thus are equal ."
   ]
  },
  {
   "cell_type": "code",
   "execution_count": 48,
   "metadata": {},
   "outputs": [
    {
     "data": {
      "text/plain": [
       "Ttest_indResult(statistic=-4.593437735750014, pvalue=7.154374401145683e-06)"
      ]
     },
     "execution_count": 48,
     "metadata": {},
     "output_type": "execute_result"
    }
   ],
   "source": [
    "stats.ttest_ind(auto[\"average_mileage\"], manual[\"average_mileage\"])"
   ]
  },
  {
   "cell_type": "markdown",
   "metadata": {},
   "source": [
    "The - test value and a p<0.05 suggests that manual cars have significantly better gas mileage on average. "
   ]
  }
 ],
 "metadata": {
  "kernelspec": {
   "display_name": "Python 3",
   "language": "python",
   "name": "python3"
  },
  "language_info": {
   "codemirror_mode": {
    "name": "ipython",
    "version": 3
   },
   "file_extension": ".py",
   "mimetype": "text/x-python",
   "name": "python",
   "nbconvert_exporter": "python",
   "pygments_lexer": "ipython3",
   "version": "3.8.5"
  }
 },
 "nbformat": 4,
 "nbformat_minor": 4
}
