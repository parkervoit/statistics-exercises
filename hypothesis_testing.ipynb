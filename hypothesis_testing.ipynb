{
 "cells": [
  {
   "cell_type": "markdown",
   "metadata": {},
   "source": [
    "# Exercises    \n",
    "    For each of the following questions, formulate a null and alternative hypothesis (be as specific as you can be), then give an example of what a true positive, true negative, type I and type II errors would look like. Note that some of the questions are intentionally phrased in a vague way. It is your job to reword these as more precise questions that could be tested.\n",
    "\n",
    "1. Has the network latency gone up since we switched internet service providers?\n",
    "- null : latency performance is not related to internet providers \n",
    "- althypo : latency performance is related to internet providers \n",
    "- truepos : avg latency from one company is significantly higher than the other\n",
    "- trueneg : avg latency from one company is not significantly higher than the other\n",
    "- type1 : latency is better with one company statistically, but in reality it isnt\n",
    "- type2 : company doesn't seem to matter with our tests, but in reality actually does\n",
    "2.  Is the website redesign any good? (just as a comment, what does good even mean? For this I am assuming amt of users visiting site)\n",
    "- null : website views are not related to the website change\n",
    "- althypo : website views are related to website change\n",
    "- truepos : website views are higher with the redesigned group compared to original\n",
    "- falsepos : website views on original are higher than the redesigned\n",
    "- type1 : views are higher on the new design, but in actuality it's due to just more people visiting, unrelated to the design\n",
    "- type2 : our redesign doesn't change our engagement, but in reality it increases user engagement and views. \n",
    "3. Is our television ad driving more sales?\n",
    "- null: advertising campaign does not influence sales\n",
    "- althypo : advertising campaign influenced sales\n",
    "- truepos : advertising campaing did create a larger amount of sales\n",
    "- falsepos : advertising campaign did not increase sales\n",
    "- type1 : sales are up, but not due to the ad. maybe its the weather\n",
    "- type2 : sales aren't up, but that's due to people not needing our product. The ad is getting new customers, they just dont increase our sales enough. "
   ]
  },
  {
   "cell_type": "code",
   "execution_count": null,
   "metadata": {},
   "outputs": [],
   "source": []
  }
 ],
 "metadata": {
  "kernelspec": {
   "display_name": "Python 3",
   "language": "python",
   "name": "python3"
  },
  "language_info": {
   "codemirror_mode": {
    "name": "ipython",
    "version": 3
   },
   "file_extension": ".py",
   "mimetype": "text/x-python",
   "name": "python",
   "nbconvert_exporter": "python",
   "pygments_lexer": "ipython3",
   "version": "3.8.5"
  }
 },
 "nbformat": 4,
 "nbformat_minor": 4
}
